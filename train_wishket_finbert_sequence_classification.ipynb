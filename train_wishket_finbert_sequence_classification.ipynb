{
 "cells": [
  {
   "cell_type": "code",
   "execution_count": 16,
   "id": "54121a97-ecde-41c2-a852-d6a0e970695e",
   "metadata": {},
   "outputs": [],
   "source": [
    "import numpy as np\n",
    "import pandas as pd\n",
    "import os\n",
    "from transformers import AutoTokenizer, AutoModel, AutoModelForSequenceClassification, AutoConfig, get_linear_schedule_with_warmup\n",
    "import math\n",
    "import random\n",
    "import torch\n",
    "import torch.nn as nn\n",
    "import torch.nn.functional as F\n",
    "from torch.utils.data import Dataset, TensorDataset, DataLoader, RandomSampler, SequentialSampler\n",
    "from tqdm.auto import tqdm\n",
    "import seaborn as sns\n",
    "import matplotlib.pyplot as plt\n",
    "from sklearn.metrics import f1_score\n",
    "from sklearn.model_selection import train_test_split # 더 정확한 평가를 위해서는 Stratified K-Fold 사용 추천"
   ]
  },
  {
   "cell_type": "code",
   "execution_count": null,
   "id": "466d87ee-6220-4d14-beb7-eb20dbd4414c",
   "metadata": {},
   "outputs": [],
   "source": []
  },
  {
   "cell_type": "markdown",
   "id": "0205abdb-88e3-4575-88d5-ac6933572860",
   "metadata": {},
   "source": [
    "# Training"
   ]
  },
  {
   "cell_type": "markdown",
   "id": "3aa28440-830b-4fb6-8b7c-8d878b4a61a9",
   "metadata": {},
   "source": [
    "##### 모델 정의"
   ]
  },
  {
   "cell_type": "code",
   "execution_count": 2,
   "id": "7642f025-37e7-416f-a608-11d611d7fb0c",
   "metadata": {},
   "outputs": [],
   "source": [
    "'''\n",
    "# 가장 기본적인 구조를 제안드립니다. \n",
    "class MeanPooling(nn.Module):\n",
    "    def __init__(self):\n",
    "        super(MeanPooling, self).__init__()\n",
    "    def forward(self, last_hidden_state, attention_masks):\n",
    "        input_mask_expanded = attention_masks.unsqueeze(-1).expand(last_hidden_state.size()).float()\n",
    "        sum_embeddings = torch.sum(last_hidden_state * input_mask_expanded, 1)\n",
    "        sum_mask = input_mask_expanded.sum(1)\n",
    "        sum_mask = torch.clamp(sum_mask, min=1e-9)\n",
    "        mean_embeddings = sum_embeddings / sum_mask\n",
    "        return mean_embeddings\n",
    "\n",
    "class BertClassifier(nn.Module):\n",
    "    def __init__(self, plm=\"snunlp/KR-FinBert-SC\", num_classes=3):\n",
    "        super(BertClassifier, self).__init__()\n",
    "        self.num_classes = num_classes\n",
    "        self.config = AutoConfig.from_pretrained(plm)\n",
    "        self.bert = AutoModel.from_pretrained(plm)\n",
    "        self.mean_pooler = MeanPooling() # mean-pooling (CLS-pooling보다 대체적으로 성능이 좋다)\n",
    "        self.fcs = nn.Linear(self.config.hidden_size, self.num_classes)\n",
    "    def forward(self, input_ids, attn_masks):\n",
    "        x = self.bert(input_ids, attn_masks)[0]\n",
    "        x = self.mean_pooler(x, attn_masks)\n",
    "        x = self.fcs(x)\n",
    "        return x\n",
    "'''"
   ]
  },
  {
   "cell_type": "markdown",
   "id": "ed94f230-3859-4d8d-b90d-e0d55704f77c",
   "metadata": {},
   "source": [
    "##### 예시 데이터 불러오기\n",
    "\n",
    "이 예시 데이터를 사용했습니다: https://github.com/ukairia777/finance_sentiment_corpus/tree/main"
   ]
  },
  {
   "cell_type": "code",
   "execution_count": 2,
   "id": "c659d97a-a5d8-4e32-b003-5a97596a7a1d",
   "metadata": {},
   "outputs": [
    {
     "data": {
      "text/html": [
       "<div>\n",
       "<style scoped>\n",
       "    .dataframe tbody tr th:only-of-type {\n",
       "        vertical-align: middle;\n",
       "    }\n",
       "\n",
       "    .dataframe tbody tr th {\n",
       "        vertical-align: top;\n",
       "    }\n",
       "\n",
       "    .dataframe thead th {\n",
       "        text-align: right;\n",
       "    }\n",
       "</style>\n",
       "<table border=\"1\" class=\"dataframe\">\n",
       "  <thead>\n",
       "    <tr style=\"text-align: right;\">\n",
       "      <th></th>\n",
       "      <th>labels</th>\n",
       "      <th>sentence</th>\n",
       "      <th>kor_sentence</th>\n",
       "    </tr>\n",
       "  </thead>\n",
       "  <tbody>\n",
       "    <tr>\n",
       "      <th>0</th>\n",
       "      <td>neutral</td>\n",
       "      <td>According to Gran, the company has no plans to...</td>\n",
       "      <td>Gran에 따르면, 그 회사는 회사가 성장하고 있는 곳이지만, 모든 생산을 러시아로...</td>\n",
       "    </tr>\n",
       "    <tr>\n",
       "      <th>1</th>\n",
       "      <td>neutral</td>\n",
       "      <td>Technopolis plans to develop in stages an area...</td>\n",
       "      <td>테크노폴리스는 컴퓨터 기술과 통신 분야에서 일하는 회사들을 유치하기 위해 10만 평...</td>\n",
       "    </tr>\n",
       "    <tr>\n",
       "      <th>2</th>\n",
       "      <td>negative</td>\n",
       "      <td>The international electronic industry company ...</td>\n",
       "      <td>국제 전자산업 회사인 엘코텍은 탈린 공장에서 수십 명의 직원을 해고했으며, 이전의 ...</td>\n",
       "    </tr>\n",
       "    <tr>\n",
       "      <th>3</th>\n",
       "      <td>positive</td>\n",
       "      <td>With the new production plant the company woul...</td>\n",
       "      <td>새로운 생산공장으로 인해 회사는 예상되는 수요 증가를 충족시킬 수 있는 능력을 증가...</td>\n",
       "    </tr>\n",
       "    <tr>\n",
       "      <th>4</th>\n",
       "      <td>positive</td>\n",
       "      <td>According to the company's updated strategy fo...</td>\n",
       "      <td>2009-2012년 회사의 업데이트된 전략에 따르면, Basware는 20% - 4...</td>\n",
       "    </tr>\n",
       "  </tbody>\n",
       "</table>\n",
       "</div>"
      ],
      "text/plain": [
       "     labels                                           sentence  \\\n",
       "0   neutral  According to Gran, the company has no plans to...   \n",
       "1   neutral  Technopolis plans to develop in stages an area...   \n",
       "2  negative  The international electronic industry company ...   \n",
       "3  positive  With the new production plant the company woul...   \n",
       "4  positive  According to the company's updated strategy fo...   \n",
       "\n",
       "                                        kor_sentence  \n",
       "0  Gran에 따르면, 그 회사는 회사가 성장하고 있는 곳이지만, 모든 생산을 러시아로...  \n",
       "1  테크노폴리스는 컴퓨터 기술과 통신 분야에서 일하는 회사들을 유치하기 위해 10만 평...  \n",
       "2  국제 전자산업 회사인 엘코텍은 탈린 공장에서 수십 명의 직원을 해고했으며, 이전의 ...  \n",
       "3  새로운 생산공장으로 인해 회사는 예상되는 수요 증가를 충족시킬 수 있는 능력을 증가...  \n",
       "4  2009-2012년 회사의 업데이트된 전략에 따르면, Basware는 20% - 4...  "
      ]
     },
     "execution_count": 2,
     "metadata": {},
     "output_type": "execute_result"
    }
   ],
   "source": [
    "df = pd.read_csv(\"finance_data.csv\")\n",
    "\n",
    "df.head()"
   ]
  },
  {
   "cell_type": "code",
   "execution_count": 3,
   "id": "d9816c52-4cb0-435f-9f9c-226d2462f50b",
   "metadata": {},
   "outputs": [],
   "source": [
    "label_dict = {\"neutral\":2,\n",
    "              \"negative\":1,\n",
    "              \"positive\":0}\n",
    "\n",
    "df[\"labels_encoded\"] = df[\"labels\"].apply(lambda x: label_dict[x])\n"
   ]
  },
  {
   "cell_type": "code",
   "execution_count": 4,
   "id": "1d4eb4c2-cc56-40d6-803b-864712a7b3b8",
   "metadata": {},
   "outputs": [
    {
     "data": {
      "text/html": [
       "<div>\n",
       "<style scoped>\n",
       "    .dataframe tbody tr th:only-of-type {\n",
       "        vertical-align: middle;\n",
       "    }\n",
       "\n",
       "    .dataframe tbody tr th {\n",
       "        vertical-align: top;\n",
       "    }\n",
       "\n",
       "    .dataframe thead th {\n",
       "        text-align: right;\n",
       "    }\n",
       "</style>\n",
       "<table border=\"1\" class=\"dataframe\">\n",
       "  <thead>\n",
       "    <tr style=\"text-align: right;\">\n",
       "      <th></th>\n",
       "      <th>kor_sentence</th>\n",
       "      <th>labels_encoded</th>\n",
       "    </tr>\n",
       "  </thead>\n",
       "  <tbody>\n",
       "    <tr>\n",
       "      <th>0</th>\n",
       "      <td>Gran에 따르면, 그 회사는 회사가 성장하고 있는 곳이지만, 모든 생산을 러시아로...</td>\n",
       "      <td>2</td>\n",
       "    </tr>\n",
       "    <tr>\n",
       "      <th>1</th>\n",
       "      <td>테크노폴리스는 컴퓨터 기술과 통신 분야에서 일하는 회사들을 유치하기 위해 10만 평...</td>\n",
       "      <td>2</td>\n",
       "    </tr>\n",
       "    <tr>\n",
       "      <th>2</th>\n",
       "      <td>국제 전자산업 회사인 엘코텍은 탈린 공장에서 수십 명의 직원을 해고했으며, 이전의 ...</td>\n",
       "      <td>1</td>\n",
       "    </tr>\n",
       "    <tr>\n",
       "      <th>3</th>\n",
       "      <td>새로운 생산공장으로 인해 회사는 예상되는 수요 증가를 충족시킬 수 있는 능력을 증가...</td>\n",
       "      <td>0</td>\n",
       "    </tr>\n",
       "    <tr>\n",
       "      <th>4</th>\n",
       "      <td>2009-2012년 회사의 업데이트된 전략에 따르면, Basware는 20% - 4...</td>\n",
       "      <td>0</td>\n",
       "    </tr>\n",
       "  </tbody>\n",
       "</table>\n",
       "</div>"
      ],
      "text/plain": [
       "                                        kor_sentence  labels_encoded\n",
       "0  Gran에 따르면, 그 회사는 회사가 성장하고 있는 곳이지만, 모든 생산을 러시아로...               2\n",
       "1  테크노폴리스는 컴퓨터 기술과 통신 분야에서 일하는 회사들을 유치하기 위해 10만 평...               2\n",
       "2  국제 전자산업 회사인 엘코텍은 탈린 공장에서 수십 명의 직원을 해고했으며, 이전의 ...               1\n",
       "3  새로운 생산공장으로 인해 회사는 예상되는 수요 증가를 충족시킬 수 있는 능력을 증가...               0\n",
       "4  2009-2012년 회사의 업데이트된 전략에 따르면, Basware는 20% - 4...               0"
      ]
     },
     "execution_count": 4,
     "metadata": {},
     "output_type": "execute_result"
    }
   ],
   "source": [
    "df = df[[\"kor_sentence\", \"labels_encoded\"]]\n",
    "\n",
    "df.head()"
   ]
  },
  {
   "cell_type": "code",
   "execution_count": 5,
   "id": "2807cd54-3d7d-40e2-b6be-97aec2f87895",
   "metadata": {},
   "outputs": [
    {
     "data": {
      "text/plain": [
       "<AxesSubplot: xlabel='labels_encoded', ylabel='count'>"
      ]
     },
     "execution_count": 5,
     "metadata": {},
     "output_type": "execute_result"
    },
    {
     "data": {
      "image/png": "[encoded data removed]",
      "text/plain": [
       "<Figure size 640x480 with 1 Axes>"
      ]
     },
     "metadata": {},
     "output_type": "display_data"
    }
   ],
   "source": [
    "sns.countplot(df, x=\"labels_encoded\") "
   ]
  },
  {
   "cell_type": "markdown",
   "id": "9db5aba3-e00e-4874-84b2-3bfaa0bcfeb3",
   "metadata": {},
   "source": [
    "예시 데이터는 데이터 불균형이 심합니다. 이 예시에서는 단순하게 weighted cross entropy loss를 사용해서 임밸런스 문제를 해결하려고 시도해봅니다. "
   ]
  },
  {
   "cell_type": "markdown",
   "id": "9c295724-5229-4b42-aa01-9ba2e0946fb3",
   "metadata": {},
   "source": [
    "# Train/Validation/Test Split"
   ]
  },
  {
   "cell_type": "code",
   "execution_count": 6,
   "id": "6f9d6d31-3ada-425d-ab46-15e093ac1418",
   "metadata": {},
   "outputs": [],
   "source": [
    "train_df, test_df = train_test_split(df, test_size=0.2, stratify=df['labels_encoded'], random_state=42)\n",
    "\n",
    "val_df, test_df = train_test_split(test_df, test_size=0.5, stratify=test_df['labels_encoded'], random_state=42) "
   ]
  },
  {
   "cell_type": "code",
   "execution_count": 7,
   "id": "bafc6576-38b0-4dd3-b306-daa02d238d76",
   "metadata": {},
   "outputs": [
    {
     "data": {
      "text/plain": [
       "((3876, 2), (485, 2), (485, 2))"
      ]
     },
     "execution_count": 7,
     "metadata": {},
     "output_type": "execute_result"
    }
   ],
   "source": [
    "train_df.shape, val_df.shape, test_df.shape"
   ]
  },
  {
   "cell_type": "markdown",
   "id": "b16f0b16-bb43-426c-84bf-7bff2e03bb09",
   "metadata": {},
   "source": [
    "##### 데이터 전처리"
   ]
  },
  {
   "cell_type": "code",
   "execution_count": 8,
   "id": "068e58b5-efe9-4dea-bba3-e6384f889840",
   "metadata": {},
   "outputs": [
    {
     "data": {
      "application/vnd.jupyter.widget-view+json": {
       "model_id": "3b6d2b56c1404ebdb14545887411bbb1",
       "version_major": 2,
       "version_minor": 0
      },
      "text/plain": [
       "Downloading tokenizer_config.json:   0%|          | 0.00/372 [00:00<?, ?B/s]"
      ]
     },
     "metadata": {},
     "output_type": "display_data"
    },
    {
     "data": {
      "application/vnd.jupyter.widget-view+json": {
       "model_id": "99cbb17a3e764b31832b6452e4cf61cd",
       "version_major": 2,
       "version_minor": 0
      },
      "text/plain": [
       "Downloading vocab.txt:   0%|          | 0.00/140k [00:00<?, ?B/s]"
      ]
     },
     "metadata": {},
     "output_type": "display_data"
    },
    {
     "data": {
      "application/vnd.jupyter.widget-view+json": {
       "model_id": "3d0b05197cf3454da38c4f92fac8faee",
       "version_major": 2,
       "version_minor": 0
      },
      "text/plain": [
       "Downloading tokenizer.json:   0%|          | 0.00/287k [00:00<?, ?B/s]"
      ]
     },
     "metadata": {},
     "output_type": "display_data"
    },
    {
     "data": {
      "application/vnd.jupyter.widget-view+json": {
       "model_id": "a5f9f64f294c45699ee44893fed9a0d0",
       "version_major": 2,
       "version_minor": 0
      },
      "text/plain": [
       "Downloading special_tokens_map.json:   0%|          | 0.00/112 [00:00<?, ?B/s]"
      ]
     },
     "metadata": {},
     "output_type": "display_data"
    }
   ],
   "source": [
    "# 토크나이저 정의\n",
    "tokenizer = AutoTokenizer.from_pretrained(\"snunlp/KR-FinBert-SC\")"
   ]
  },
  {
   "cell_type": "code",
   "execution_count": 9,
   "id": "b4f55a77-0999-46ea-bd45-f51a0b9886e7",
   "metadata": {},
   "outputs": [],
   "source": [
    "def preprocess_data(df):\n",
    "    sentences = df[\"kor_sentence\"].values\n",
    "    labels = df[\"labels_encoded\"].values\n",
    "    input_ids, attn_masks = [], []\n",
    "    for i in tqdm(range(len(sentences))):\n",
    "        # 토큰 길이 적절히 조절 \n",
    "        encoded_inputs = tokenizer(sentences[i], max_length=512, truncation=True, padding='max_length')\n",
    "        input_ids.append(encoded_inputs[\"input_ids\"])\n",
    "        attn_masks.append(encoded_inputs[\"attention_mask\"])\n",
    "    input_ids = torch.tensor(input_ids, dtype=int)\n",
    "    attn_masks = torch.tensor(attn_masks, dtype=int)\n",
    "    labels = torch.tensor(labels, dtype=int)\n",
    "    return input_ids, attn_masks, labels"
   ]
  },
  {
   "cell_type": "code",
   "execution_count": 10,
   "id": "27e074df-70e6-462d-a1fc-2010dac9b119",
   "metadata": {},
   "outputs": [
    {
     "data": {
      "application/vnd.jupyter.widget-view+json": {
       "model_id": "7a51c26e13dc441bbcbccaa28462dd78",
       "version_major": 2,
       "version_minor": 0
      },
      "text/plain": [
       "  0%|          | 0/3876 [00:00<?, ?it/s]"
      ]
     },
     "metadata": {},
     "output_type": "display_data"
    },
    {
     "data": {
      "application/vnd.jupyter.widget-view+json": {
       "model_id": "5ca980b8978e4a53bfa8c09b021ab990",
       "version_major": 2,
       "version_minor": 0
      },
      "text/plain": [
       "  0%|          | 0/485 [00:00<?, ?it/s]"
      ]
     },
     "metadata": {},
     "output_type": "display_data"
    }
   ],
   "source": [
    "train_input_ids, train_attn_masks, train_labels = preprocess_data(train_df) \n",
    "val_input_ids, val_attn_masks, val_labels = preprocess_data(val_df) "
   ]
  },
  {
   "cell_type": "code",
   "execution_count": 11,
   "id": "ab19d45c-ced5-4383-a9e6-700b5a15c4ad",
   "metadata": {},
   "outputs": [],
   "source": [
    "# dataloader 정의\n",
    "batch_size = 16\n",
    "train_data = TensorDataset(train_input_ids, train_attn_masks, train_labels)\n",
    "train_sampler = RandomSampler(train_data)\n",
    "train_dataloader = DataLoader(train_data, sampler=train_sampler, batch_size=batch_size)\n",
    "\n",
    "val_data = TensorDataset(val_input_ids, val_attn_masks, val_labels)\n",
    "val_sampler = SequentialSampler(val_data)\n",
    "val_dataloader = DataLoader(val_data, sampler=val_sampler, batch_size=batch_size)"
   ]
  },
  {
   "cell_type": "markdown",
   "id": "1d872111-d1db-457a-b838-5969f801724d",
   "metadata": {},
   "source": [
    "##### Class Weight 계산\n",
    "\n",
    "클래스 불균형이 있는 경우 class weight를 계산해서 이 정보를 loss를 계산할때 사용한다. "
   ]
  },
  {
   "cell_type": "code",
   "execution_count": 12,
   "id": "3c6cba3e-4236-4cb5-b06c-1406e9432554",
   "metadata": {},
   "outputs": [],
   "source": [
    "def compute_inverse_freqs(targets, num_classes):\n",
    "    class_counts = torch.bincount(targets, minlength=num_classes) \n",
    "    class_freqs = class_counts.float() / targets.size(0) \n",
    "    inverse_freqs = 1.0 / class_freqs \n",
    "    normalized_inv_freqs = inverse_freqs / sum(inverse_freqs) \n",
    "    return normalized_inv_freqs.tolist() "
   ]
  },
  {
   "cell_type": "code",
   "execution_count": 13,
   "id": "1ed61164-03cc-4289-9005-1498c4d5883a",
   "metadata": {},
   "outputs": [
    {
     "data": {
      "text/plain": [
       "tensor([0.2681, 0.6050, 0.1269])"
      ]
     },
     "execution_count": 13,
     "metadata": {},
     "output_type": "execute_result"
    }
   ],
   "source": [
    "alpha = compute_inverse_freqs(train_labels, 3) \n",
    "alpha = torch.tensor(alpha)\n",
    "\n",
    "alpha"
   ]
  },
  {
   "cell_type": "markdown",
   "id": "ceffce87-beb0-4c36-a27a-3d6ecd8c8a3f",
   "metadata": {},
   "source": [
    "##### 모델 학습"
   ]
  },
  {
   "cell_type": "code",
   "execution_count": 14,
   "id": "b7a615de-e24f-4950-8bc7-da7f9d0b1db9",
   "metadata": {},
   "outputs": [],
   "source": [
    "def flat_accuracy(preds, labels):\n",
    "    pred_flat = np.argmax(preds, axis=1).flatten()\n",
    "    labels_flat = labels.flatten()\n",
    "    return np.sum(pred_flat == labels_flat) / len(labels_flat)"
   ]
  },
  {
   "cell_type": "code",
   "execution_count": 22,
   "id": "b734695f-0129-4fa3-8c63-d48b78b089fc",
   "metadata": {},
   "outputs": [
    {
     "data": {
      "application/vnd.jupyter.widget-view+json": {
       "model_id": "22844ed2a9e642e48e0bdf27ac8d6a82",
       "version_major": 2,
       "version_minor": 0
      },
      "text/plain": [
       "epochs:   0%|          | 0/3 [00:00<?, ?it/s]"
      ]
     },
     "metadata": {},
     "output_type": "display_data"
    },
    {
     "data": {
      "application/vnd.jupyter.widget-view+json": {
       "model_id": "cde0cdd39cfd44e6904082358807a940",
       "version_major": 2,
       "version_minor": 0
      },
      "text/plain": [
       "training:   0%|          | 0/243 [00:00<?, ?it/s]"
      ]
     },
     "metadata": {},
     "output_type": "display_data"
    },
    {
     "data": {
      "application/vnd.jupyter.widget-view+json": {
       "model_id": "b875916b2eaa4a4da8515ef4d439fd79",
       "version_major": 2,
       "version_minor": 0
      },
      "text/plain": [
       "validating:   0%|          | 0/31 [00:00<?, ?it/s]"
      ]
     },
     "metadata": {},
     "output_type": "display_data"
    },
    {
     "name": "stdout",
     "output_type": "stream",
     "text": [
      "Epoch:1 \n",
      " train loss: 0.8255643265728106 | train accuracy: 0.6432613168724279 | train F1: 0.6512392092273699 \n",
      " val loss: 0.5018812667938971 | val accuracy: 0.8 | val F1: 0.8046205955165643\n"
     ]
    },
    {
     "data": {
      "application/vnd.jupyter.widget-view+json": {
       "model_id": "1ce2c589c9114a41a070c9016ca1ef42",
       "version_major": 2,
       "version_minor": 0
      },
      "text/plain": [
       "training:   0%|          | 0/243 [00:00<?, ?it/s]"
      ]
     },
     "metadata": {},
     "output_type": "display_data"
    },
    {
     "data": {
      "application/vnd.jupyter.widget-view+json": {
       "model_id": "5e7edae3283d436e92b0890f3ffb4cd1",
       "version_major": 2,
       "version_minor": 0
      },
      "text/plain": [
       "validating:   0%|          | 0/31 [00:00<?, ?it/s]"
      ]
     },
     "metadata": {},
     "output_type": "display_data"
    },
    {
     "name": "stdout",
     "output_type": "stream",
     "text": [
      "Epoch:2 \n",
      " train loss: 0.4069258076725183 | train accuracy: 0.8415637860082305 | train F1: 0.8428903649723761 \n",
      " val loss: 0.4664467979342707 | val accuracy: 0.8221774193548387 | val F1: 0.8244573510953618\n"
     ]
    },
    {
     "data": {
      "application/vnd.jupyter.widget-view+json": {
       "model_id": "c640e55adbba4c858d791bd6fb80dd3a",
       "version_major": 2,
       "version_minor": 0
      },
      "text/plain": [
       "training:   0%|          | 0/243 [00:00<?, ?it/s]"
      ]
     },
     "metadata": {},
     "output_type": "display_data"
    },
    {
     "data": {
      "application/vnd.jupyter.widget-view+json": {
       "model_id": "c652119f531a4e0cb19493b76f22e413",
       "version_major": 2,
       "version_minor": 0
      },
      "text/plain": [
       "validating:   0%|          | 0/31 [00:00<?, ?it/s]"
      ]
     },
     "metadata": {},
     "output_type": "display_data"
    },
    {
     "name": "stdout",
     "output_type": "stream",
     "text": [
      "Epoch:3 \n",
      " train loss: 0.28108357836649495 | train accuracy: 0.8930041152263375 | train F1: 0.8934748780205424 \n",
      " val loss: 0.524796269353359 | val accuracy: 0.8201612903225807 | val F1: 0.8229664275244082\n"
     ]
    }
   ],
   "source": [
    "device = torch.device(\"cuda\" if torch.cuda.is_available() else \"cpu\")\n",
    "# model = BertClassifier()\n",
    "model = AutoModelForSequenceClassification.from_pretrained(\"snunlp/KR-FinBert-SC\", num_labels=3)\n",
    "model.to(device)\n",
    "optimizer = torch.optim.AdamW(model.parameters(), lr=2e-5, eps=1e-8)\n",
    "epochs = 3\n",
    "total_steps = len(train_dataloader) * epochs\n",
    "scheduler = get_linear_schedule_with_warmup(optimizer, num_warmup_steps=0, num_training_steps=total_steps)\n",
    "alpha = alpha.to(device) \n",
    "loss_func = nn.CrossEntropyLoss(weight=alpha)\n",
    "\n",
    "train_losses, train_accuracies, train_f1s = [], [], [] \n",
    "val_losses, val_accuracies, val_f1s = [], [], [] \n",
    "# loss값이 가장 좋은 체크포인트를 저장하는데, accuracy나 F1 기준으로도 저장할 수 있다. \n",
    "best_val_loss = np.inf\n",
    "\n",
    "model.zero_grad()\n",
    "for epoch in tqdm(range(epochs), desc=\"epochs\", position=0, leave=True, total=epochs):\n",
    "    train_loss, train_accuracy = 0, 0\n",
    "    train_preds, train_true = [], [] \n",
    "    model.train()\n",
    "    for step, batch in tqdm(enumerate(train_dataloader), total=len(train_dataloader), desc=\"training\", position=0, leave=True):\n",
    "        batch = tuple(t.to(device) for t in batch)\n",
    "        b_input_ids, b_attn_masks, b_labels = batch\n",
    "        outputs = model(b_input_ids, b_attn_masks).logits\n",
    "        loss = loss_func(outputs, b_labels)\n",
    "        train_preds.extend(torch.argmax(outputs, axis=1).detach().cpu().numpy())\n",
    "        train_true.extend(b_labels.detach().cpu().numpy())\n",
    "        train_loss += loss.item()\n",
    "        train_accuracy += flat_accuracy(outputs.detach().cpu().numpy(), b_labels.detach().cpu().numpy())\n",
    "        loss.backward()\n",
    "        torch.nn.utils.clip_grad_norm_(model.parameters(), 1.0)\n",
    "        optimizer.step()\n",
    "        scheduler.step()\n",
    "        model.zero_grad()\n",
    "    train_f1 = f1_score(train_true, train_preds, average='weighted')\n",
    "    train_f1s.append(train_f1)\n",
    "    val_loss, val_accuracy = 0, 0\n",
    "    val_preds, val_true = [], [] \n",
    "    model.eval()\n",
    "    for step, batch in tqdm(enumerate(val_dataloader), total=len(val_dataloader), desc=\"validating\", position=0, leave=True):\n",
    "        batch = tuple(t.to(device) for t in batch)\n",
    "        b_input_ids, b_attn_masks, b_labels = batch\n",
    "        with torch.no_grad():\n",
    "            outputs = model(b_input_ids, b_attn_masks).logits\n",
    "        val_preds.extend(torch.argmax(outputs, axis=1).detach().cpu().numpy())\n",
    "        val_true.extend(b_labels.detach().cpu().numpy())\n",
    "        loss = loss_func(outputs, b_labels)\n",
    "        val_loss += loss.item()\n",
    "        val_accuracy += flat_accuracy(outputs.detach().cpu().numpy(), b_labels.detach().cpu().numpy())\n",
    "    val_f1 = f1_score(val_true, val_preds, average='weighted')\n",
    "    val_f1s.append(val_f1)\n",
    "    avg_train_loss = train_loss / len(train_dataloader)\n",
    "    avg_train_accuracy = train_accuracy / len(train_dataloader)\n",
    "    avg_val_loss = val_loss / len(val_dataloader)\n",
    "    avg_val_accuracy = val_accuracy / len(val_dataloader)\n",
    "    print(f\"Epoch:{epoch+1} \\n train loss: {avg_train_loss} | train accuracy: {avg_train_accuracy} | train F1: {train_f1} \\n val loss: {avg_val_loss} | val accuracy: {avg_val_accuracy} | val F1: {val_f1}\")\n",
    "    train_losses.append(avg_train_loss) \n",
    "    train_accuracies.append(avg_train_accuracy) \n",
    "    val_losses.append(avg_val_loss) \n",
    "    val_accuracies.append(avg_val_accuracy) \n",
    "    if best_val_loss > avg_val_loss:\n",
    "        best_val_loss = avg_val_loss\n",
    "        torch.save(model.state_dict(), f\"best_chkpt.pt\")"
   ]
  },
  {
   "cell_type": "markdown",
   "id": "a61d7bb5-e115-4448-9455-4b786e99aa37",
   "metadata": {},
   "source": [
    "##### 결과 분석 "
   ]
  },
  {
   "cell_type": "code",
   "execution_count": 27,
   "id": "43bde163-4b24-4bf3-9620-20022aa68b5d",
   "metadata": {},
   "outputs": [],
   "source": [
    "def plot_loss(train_loss, val_loss):\n",
    "    epochs = range(1, len(train_loss) + 1) \n",
    "    plt.figure(figsize=(12, 6)) \n",
    "    plt.plot(epochs, train_loss, 'b', label='Train Loss') \n",
    "    plt.plot(epochs, val_loss, 'r', label='Valdiation Loss') \n",
    "    plt.title('Train and Validation Loss') \n",
    "    plt.xlabel('Epochs') \n",
    "    plt.ylabel('Loss') \n",
    "    plt.legend()\n",
    "    plt.show() \n",
    "    \n",
    "def plot_accuracy(train_loss, val_loss):\n",
    "    epochs = range(1, len(train_loss) + 1) \n",
    "    plt.figure(figsize=(12, 6)) \n",
    "    plt.plot(epochs, train_loss, 'b', label='Train Accuracy') \n",
    "    plt.plot(epochs, val_loss, 'r', label='Valdiation Accuracy') \n",
    "    plt.title('Train and Validation Accuracy') \n",
    "    plt.xlabel('Epochs') \n",
    "    plt.ylabel('Accuracy') \n",
    "    plt.legend()\n",
    "    plt.show() \n",
    "    \n",
    "def plot_f1(train_loss, val_loss): \n",
    "    epochs = range(1, len(train_loss) + 1) \n",
    "    plt.figure(figsize=(12, 6)) \n",
    "    plt.plot(epochs, train_loss, 'b', label='Train F1') \n",
    "    plt.plot(epochs, val_loss, 'r', label='Valdiation F1') \n",
    "    plt.title('Train and Validation F1') \n",
    "    plt.xlabel('Epochs') \n",
    "    plt.ylabel('F1') \n",
    "    plt.legend()\n",
    "    plt.show() "
   ]
  },
  {
   "cell_type": "code",
   "execution_count": 28,
   "id": "f1557260-f613-484c-8cb0-cdb48287687c",
   "metadata": {},
   "outputs": [
    {
     "data": {
      "image/png": "[encoded data removed]",
      "text/plain": [
       "<Figure size 1200x600 with 1 Axes>"
      ]
     },
     "metadata": {},
     "output_type": "display_data"
    }
   ],
   "source": [
    "plot_loss(train_losses, val_losses) "
   ]
  },
  {
   "cell_type": "code",
   "execution_count": 29,
   "id": "9eebeae9-dcd2-4503-a9ff-2590d7956e1e",
   "metadata": {},
   "outputs": [
    {
     "data": {
      "image/png": "[encoded data removed]",
      "text/plain": [
       "<Figure size 1200x600 with 1 Axes>"
      ]
     },
     "metadata": {},
     "output_type": "display_data"
    }
   ],
   "source": [
    "plot_accuracy(train_accuracies, val_accuracies)"
   ]
  },
  {
   "cell_type": "code",
   "execution_count": 30,
   "id": "b83b06d1-7295-4c96-af4d-2182aae97055",
   "metadata": {},
   "outputs": [
    {
     "data": {
      "image/png": "[encoded data removed]",
      "text/plain": [
       "<Figure size 1200x600 with 1 Axes>"
      ]
     },
     "metadata": {},
     "output_type": "display_data"
    }
   ],
   "source": [
    "plot_f1(train_accuracies, val_accuracies)"
   ]
  },
  {
   "cell_type": "markdown",
   "id": "f26ede4b-79f1-4a62-95d6-ff1459978f29",
   "metadata": {},
   "source": [
    "# Inference"
   ]
  },
  {
   "cell_type": "code",
   "execution_count": 31,
   "id": "5b8fa703-fad9-4d4f-bce2-eaa22c734e41",
   "metadata": {},
   "outputs": [
    {
     "name": "stdout",
     "output_type": "stream",
     "text": [
      "<All keys matched successfully>\n",
      "\n"
     ]
    }
   ],
   "source": [
    "# 저장된 best checkpoint를 로드합니다. \n",
    "# test_model = BertClassifier()\n",
    "test_model = AutoModelForSequenceClassification.from_pretrained(\"snunlp/KR-FinBert-SC\", num_labels=3) \n",
    "checkpoint = torch.load(\"best_chkpt.pt\") \n",
    "print(test_model.load_state_dict(checkpoint))\n",
    "test_model.to(device) \n",
    "test_model.eval() \n",
    "print() # 모델 로그 출력 생략 "
   ]
  },
  {
   "cell_type": "markdown",
   "id": "6b3cfbf9-63a4-42c6-9460-c48beece8a41",
   "metadata": {},
   "source": [
    "batch 단위 inference"
   ]
  },
  {
   "cell_type": "code",
   "execution_count": 32,
   "id": "3d88c4ef-85ac-4113-8674-4a10f941f4c7",
   "metadata": {},
   "outputs": [
    {
     "data": {
      "application/vnd.jupyter.widget-view+json": {
       "model_id": "c37607b1952044359728e09805ae579a",
       "version_major": 2,
       "version_minor": 0
      },
      "text/plain": [
       "  0%|          | 0/485 [00:00<?, ?it/s]"
      ]
     },
     "metadata": {},
     "output_type": "display_data"
    }
   ],
   "source": [
    "test_input_ids, test_attn_masks, test_labels = preprocess_data(test_df) \n",
    "\n",
    "test_data = TensorDataset(test_input_ids, test_attn_masks)\n",
    "test_sampler = SequentialSampler(test_data)\n",
    "test_dataloader = DataLoader(test_data, sampler=test_sampler, batch_size=batch_size)"
   ]
  },
  {
   "cell_type": "code",
   "execution_count": 33,
   "id": "8ad06ea2-38ec-4e24-9ec7-3670ea5b7261",
   "metadata": {},
   "outputs": [],
   "source": [
    "test_labels = test_labels.numpy()"
   ]
  },
  {
   "cell_type": "code",
   "execution_count": 35,
   "id": "7e5c957b-67c9-45b9-93d4-a010e1c027fe",
   "metadata": {},
   "outputs": [
    {
     "data": {
      "application/vnd.jupyter.widget-view+json": {
       "model_id": "a9013a3cb05d431e806e1ec628e2ef3c",
       "version_major": 2,
       "version_minor": 0
      },
      "text/plain": [
       "inference:   0%|          | 0/31 [00:00<?, ?it/s]"
      ]
     },
     "metadata": {},
     "output_type": "display_data"
    }
   ],
   "source": [
    "predictions = [] \n",
    "\n",
    "for batch in tqdm(test_dataloader, desc=\"inference\"):\n",
    "    batch = (t.to(device) for t in batch) \n",
    "    b_input_ids, b_attn_masks = batch \n",
    "    with torch.no_grad():\n",
    "        outputs = test_model(b_input_ids, b_attn_masks).logits \n",
    "    for i in range(outputs.shape[0]):\n",
    "        probs = outputs[i].detach().cpu().numpy() \n",
    "        predictions.append(np.argmax(probs)) \n",
    "    "
   ]
  },
  {
   "cell_type": "code",
   "execution_count": 37,
   "id": "e1344bd0-12fa-418a-9900-1e7b1e24e97b",
   "metadata": {},
   "outputs": [
    {
     "name": "stdout",
     "output_type": "stream",
     "text": [
      "test accuracy = 81.23711340206185%\n"
     ]
    }
   ],
   "source": [
    "# accuracy 계산 \n",
    "cnt = 0 \n",
    "for i in range(len(predictions)):\n",
    "    if predictions[i] == test_labels[i]:\n",
    "        cnt += 1\n",
    "        \n",
    "accuracy = cnt / len(predictions) * 100 \n",
    "\n",
    "print(f\"test accuracy = {accuracy}%\")"
   ]
  },
  {
   "cell_type": "code",
   "execution_count": 38,
   "id": "b40ca44d-f92f-4350-b2cb-0dcb7acdf920",
   "metadata": {},
   "outputs": [],
   "source": [
    "inv_label_dict = {2: \"neutral\", \n",
    "                  1: \"negative\", \n",
    "                  0: \"positive\"}"
   ]
  },
  {
   "cell_type": "code",
   "execution_count": 39,
   "id": "75e121a4-1f06-4b1a-bbe5-493b46209eb4",
   "metadata": {},
   "outputs": [
    {
     "name": "stdout",
     "output_type": "stream",
     "text": [
      "테스트 샘플 1\n",
      "ADP 뉴스 - 2009년 4월 22일 - 핀란드 비즈니스 정보 시스템 개발업체 Solteq Oyj HEL: STQ1V는 오늘 2009년 1/4분기 순손실이 같은 기간의 10,000유로에서 189,000유로 245,000유로로 확대되었다고 밝혔습니다.\n",
      "예측된 레이블: negative\n",
      "실제 레이블: negative\n",
      "\n",
      "\n",
      "테스트 샘플 2\n",
      "GSK는 2008년 11월 다트포드에 있는 사업장을 폐쇄할 것이라고 발표했다.\n",
      "예측된 레이블: neutral\n",
      "실제 레이블: negative\n",
      "\n",
      "\n",
      "테스트 샘플 3\n",
      "계약은 로그 핸들링 라인, 필링 라인, 베니어 건조 및 그레이딩 라인으로 구성됩니다.\n",
      "예측된 레이블: neutral\n",
      "실제 레이블: neutral\n",
      "\n",
      "\n",
      "테스트 샘플 4\n",
      "인도의 러시아와의 교역은 현재 40억 달러로 2007 회계연도에 9.6% 성장했다.\n",
      "예측된 레이블: positive\n",
      "실제 레이블: positive\n",
      "\n",
      "\n",
      "테스트 샘플 5\n",
      "Stora Enso Oyj는 2분기 실적이 2007년 같은 기간에 비해 절반으로 떨어질 것이라고 말했다.\n",
      "예측된 레이블: negative\n",
      "실제 레이블: negative\n",
      "\n",
      "\n",
      "테스트 샘플 6\n",
      "이에따라 양당은 아베나를 협상 대상에서 제외하기로 합의했다.\n",
      "예측된 레이블: neutral\n",
      "실제 레이블: neutral\n",
      "\n",
      "\n",
      "테스트 샘플 7\n",
      "EPS 지수는 유로0.27에서 유로0.38로 개선되었다.\n",
      "예측된 레이블: positive\n",
      "실제 레이블: positive\n",
      "\n",
      "\n",
      "테스트 샘플 8\n",
      "7월 11일 버지니아주 알렉산드리아 - 핀란드 유카에 사는 한누 카호넨이 방화구 손잡이 장식 디자인을 개발했다고 미국 특허청이 발표했다.\n",
      "예측된 레이블: neutral\n",
      "실제 레이블: neutral\n",
      "\n",
      "\n",
      "테스트 샘플 9\n",
      "시티24 이용자들은 시티24가 활동 중인 모든 지역의 주택과 사유지를 자신의 나라 밖에서도 검색할 수 있다.\n",
      "예측된 레이블: neutral\n",
      "실제 레이블: neutral\n",
      "\n",
      "\n",
      "테스트 샘플 10\n",
      "그 회사는 2008년에 주당 0.12유로의 배당을 제안할 것이다.\n",
      "예측된 레이블: neutral\n",
      "실제 레이블: neutral\n",
      "\n",
      "\n"
     ]
    }
   ],
   "source": [
    "# print a few samples \n",
    "test_sentences = test_df[\"kor_sentence\"].values \n",
    "for i in range(10):\n",
    "    print(f\"테스트 샘플 {i+1}\") \n",
    "    print(test_sentences[i]) \n",
    "    print(f\"예측된 레이블: {inv_label_dict[predictions[i]]}\") \n",
    "    print(f\"실제 레이블: {inv_label_dict[test_labels[i]]}\")\n",
    "    print()\n",
    "    print()"
   ]
  },
  {
   "cell_type": "code",
   "execution_count": null,
   "id": "6db38e27-bb05-4a15-99e2-4ce4b8f4195c",
   "metadata": {},
   "outputs": [],
   "source": []
  }
 ],
 "metadata": {
  "kernelspec": {
   "display_name": "Python 3 (ipykernel)",
   "language": "python",
   "name": "python3"
  },
  "language_info": {
   "codemirror_mode": {
    "name": "ipython",
    "version": 3
   },
   "file_extension": ".py",
   "mimetype": "text/x-python",
   "name": "python",
   "nbconvert_exporter": "python",
   "pygments_lexer": "ipython3",
   "version": "3.9.16"
  }
 },
 "nbformat": 4,
 "nbformat_minor": 5
}
